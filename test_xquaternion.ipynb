{
 "cells": [
  {
   "cell_type": "code",
   "execution_count": 1,
   "metadata": {},
   "outputs": [],
   "source": [
    "#include \"xtensor/xtensor.hpp\"\n",
    "#include \"xtensor/xarray.hpp\"\n",
    "#include \"xtensor/xio.hpp\"\n",
    "#include \"include/xquaternion.hpp\"\n",
    "\n",
    "using namespace std;"
   ]
  },
  {
   "cell_type": "markdown",
   "metadata": {},
   "source": [
    "# Basics"
   ]
  },
  {
   "cell_type": "code",
   "execution_count": 2,
   "metadata": {},
   "outputs": [
    {
     "data": {
      "text/html": [
       "<table style='border-style:solid;border-width:1px;'><tbody><tr><td style='font-family:monospace;' title='0'><pre>Q: 1, 0, 0, 0\n",
       "</pre></td></tr><tr><td style='font-family:monospace;' title='1'><pre>Q: 1, 0, 0, 0\n",
       "</pre></td></tr><tr><td style='font-family:monospace;' title='2'><pre>Q: 1, 0, 0, 0\n",
       "</pre></td></tr></tbody></table>"
      ]
     },
     "execution_count": 2,
     "metadata": {},
     "output_type": "execute_result"
    }
   ],
   "source": [
    "xt::ones<xt::quaternion<double>>({3})"
   ]
  },
  {
   "cell_type": "code",
   "execution_count": 3,
   "metadata": {},
   "outputs": [
    {
     "name": "stdout",
     "output_type": "stream",
     "text": [
      "Q: 1, 2, 3, 4\n"
     ]
    }
   ],
   "source": [
    "xt::quaternion<double> q = {1, 2, 3, 4};\n",
    "cout << q;"
   ]
  },
  {
   "cell_type": "code",
   "execution_count": 4,
   "metadata": {},
   "outputs": [
    {
     "data": {
      "text/html": [
       "<table style='border-style:solid;border-width:1px;'><tbody><tr><td style='font-family:monospace;'><pre>Q: 1, -2, -3, -4\n",
       "</pre></td></tr></tbody></table>"
      ]
     },
     "execution_count": 4,
     "metadata": {},
     "output_type": "execute_result"
    }
   ],
   "source": [
    "xt::conj(q)"
   ]
  },
  {
   "cell_type": "code",
   "execution_count": 5,
   "metadata": {},
   "outputs": [
    {
     "name": "stdout",
     "output_type": "stream",
     "text": [
      "Q: 2, 0, 0, 0\n"
     ]
    }
   ],
   "source": [
    "q = 2;\n",
    "cout << q;"
   ]
  },
  {
   "cell_type": "code",
   "execution_count": 6,
   "metadata": {},
   "outputs": [],
   "source": [
    "xt::xtensor<xt::quaternion<double>, 1> qt = {{1, 2, 3, 4}, {5, 6, 7, 8}};"
   ]
  },
  {
   "cell_type": "code",
   "execution_count": 7,
   "metadata": {},
   "outputs": [
    {
     "data": {
      "text/html": [
       "<table style='border-style:solid;border-width:1px;'><tbody><tr><td style='font-family:monospace;' title='0'><pre> Q: 30, 0, 0, 0\n",
       "</pre></td></tr><tr><td style='font-family:monospace;' title='1'><pre>Q: 174, 0, 0, 0\n",
       "</pre></td></tr></tbody></table>"
      ]
     },
     "execution_count": 7,
     "metadata": {},
     "output_type": "execute_result"
    }
   ],
   "source": [
    "qt*xt::conj(qt)"
   ]
  },
  {
   "cell_type": "code",
   "execution_count": 8,
   "metadata": {},
   "outputs": [
    {
     "data": {
      "text/html": [
       "<table style='border-style:solid;border-width:1px;'><tbody><tr><td style='font-family:monospace;' title='0'><pre>Q: -1, 2, 3, 4\n",
       "</pre></td></tr><tr><td style='font-family:monospace;' title='1'><pre> Q: 3, 6, 7, 8\n",
       "</pre></td></tr></tbody></table>"
      ]
     },
     "execution_count": 8,
     "metadata": {},
     "output_type": "execute_result"
    }
   ],
   "source": [
    "qt - q"
   ]
  },
  {
   "cell_type": "markdown",
   "metadata": {},
   "source": [
    "# Views"
   ]
  },
  {
   "cell_type": "code",
   "execution_count": 9,
   "metadata": {},
   "outputs": [
    {
     "data": {
      "text/html": [
       "<table style='border-style:solid;border-width:1px;'><tbody><tr><td style='font-family:monospace;' title='0'><pre>Q: 1, 2, 0, 4\n",
       "</pre></td></tr><tr><td style='font-family:monospace;' title='1'><pre>Q: 5, 6, 0, 8\n",
       "</pre></td></tr></tbody></table>"
      ]
     },
     "execution_count": 9,
     "metadata": {},
     "output_type": "execute_result"
    }
   ],
   "source": [
    "xt::offset_view(qt, y) =  xt::zeros<double>({2});\n",
    "qt"
   ]
  },
  {
   "cell_type": "code",
   "execution_count": 10,
   "metadata": {},
   "outputs": [
    {
     "data": {
      "text/html": [
       "<table style='border-style:solid;border-width:1px;'><tbody><tr><td style='font-family:monospace;' title='(0, 0)'><pre> 1.</pre></td><td style='font-family:monospace;' title='(0, 1)'><pre> 2.</pre></td><td style='font-family:monospace;' title='(0, 2)'><pre> 0.</pre></td><td style='font-family:monospace;' title='(0, 3)'><pre> 4.</pre></td></tr><tr><td style='font-family:monospace;' title='(1, 0)'><pre> 5.</pre></td><td style='font-family:monospace;' title='(1, 1)'><pre> 6.</pre></td><td style='font-family:monospace;' title='(1, 2)'><pre> 0.</pre></td><td style='font-family:monospace;' title='(1, 3)'><pre> 8.</pre></td></tr></tbody></table>"
      ]
     },
     "execution_count": 10,
     "metadata": {},
     "output_type": "execute_result"
    }
   ],
   "source": [
    "xt::xarray<double> qr = {xt::raw_view(qt)};\n",
    "qr"
   ]
  },
  {
   "cell_type": "code",
   "execution_count": 11,
   "metadata": {},
   "outputs": [
    {
     "data": {
      "text/html": [
       "<table style='border-style:solid;border-width:1px;'><tbody><tr><td style='font-family:monospace;' title='0'><pre>Q: 1, 2, 0, 4\n",
       "</pre></td></tr><tr><td style='font-family:monospace;' title='1'><pre>Q: 5, 6, 0, 8\n",
       "</pre></td></tr></tbody></table>"
      ]
     },
     "execution_count": 11,
     "metadata": {},
     "output_type": "execute_result"
    }
   ],
   "source": [
    "xt::xarray<xt::quaternion<double>>{xt::quat_view(qr)}"
   ]
  },
  {
   "cell_type": "markdown",
   "metadata": {},
   "source": [
    "# Coordinate Transform"
   ]
  },
  {
   "cell_type": "code",
   "execution_count": 12,
   "metadata": {},
   "outputs": [],
   "source": [
    "#include \"xtensor/xrandom.hpp\"\n",
    "#include \"xtensor/xpad.hpp\"\n",
    "#include \"xtensor/xstrided_view.hpp\""
   ]
  },
  {
   "cell_type": "code",
   "execution_count": 13,
   "metadata": {},
   "outputs": [
    {
     "data": {
      "text/html": [
       "<table style='border-style:solid;border-width:1px;'><tr><td><table style='border-style:solid;border-width:1px;'><tbody><tr><td style='font-family:monospace;' title='(0, 0, 0)'><pre> 0.135477</pre></td><td style='font-family:monospace;' title='(0, 0, 1)'><pre> 0.835009</pre></td><td style='font-family:monospace;' title='(0, 0, 2)'><pre> 0.968868</pre></td></tr><tr><td style='font-family:monospace;' title='(0, 1, 0)'><pre> 0.221034</pre></td><td style='font-family:monospace;' title='(0, 1, 1)'><pre> 0.308167</pre></td><td style='font-family:monospace;' title='(0, 1, 2)'><pre> 0.547221</pre></td></tr></tbody></table></td></tr><tr><td><table style='border-style:solid;border-width:1px;'><tbody><tr><td style='font-family:monospace;' title='(1, 0, 0)'><pre> 0.188382</pre></td><td style='font-family:monospace;' title='(1, 0, 1)'><pre> 0.992881</pre></td><td style='font-family:monospace;' title='(1, 0, 2)'><pre> 0.996461</pre></td></tr><tr><td style='font-family:monospace;' title='(1, 1, 0)'><pre> 0.967695</pre></td><td style='font-family:monospace;' title='(1, 1, 1)'><pre> 0.725839</pre></td><td style='font-family:monospace;' title='(1, 1, 2)'><pre> 0.98111 </pre></td></tr></tbody></table></td></tr></table>"
      ]
     },
     "execution_count": 13,
     "metadata": {},
     "output_type": "execute_result"
    }
   ],
   "source": [
    "xt::xarray<double> p = xt::random::rand<double>({2, 2, 3});\n",
    "xt::quaternion<double> rotation = {1, 2, 3, 4};\n",
    "xt::xtensor<double, 1> offset = {1, 2, 3};\n",
    "p"
   ]
  },
  {
   "cell_type": "code",
   "execution_count": 14,
   "metadata": {},
   "outputs": [],
   "source": [
    "template <class E1, class E2, class E3>\n",
    "auto rel2abs(E1&& p, E2&& offset, E3&& rotation) {\n",
    "    auto shape = p.shape();\n",
    "    vector<size_t> vshape(shape.begin(), shape.end());\n",
    "    vector<vector<size_t>> padw(vshape.size(), {0, 0});\n",
    "    padw.back()[0] = 1;\n",
    "    \n",
    "    // array of cartesian vectors to array quaternions with w = 0\n",
    "    xt::xarray<xt::quaternion<double>> p_q = xt::quat_view(\n",
    "        xt::pad(xt::eval(p + offset), padw));\n",
    "    \n",
    "    // rotate array of quaternions and strip w dimension\n",
    "    xt::xarray<double> p_trans = xt::strided_view(\n",
    "        xt::raw_view(xt::eval(rotation*p_q*xt::conj(rotation))), \n",
    "        {xt::ellipsis(), xt::range(1, 4)});\n",
    "        \n",
    "    return p_trans;\n",
    "}"
   ]
  },
  {
   "cell_type": "code",
   "execution_count": 15,
   "metadata": {},
   "outputs": [
    {
     "data": {
      "text/html": [
       "<table style='border-style:solid;border-width:1px;'><tr><td><table style='border-style:solid;border-width:1px;'><tbody><tr><td style='font-family:monospace;' title='(0, 0, 0)'><pre>  75.945585</pre></td><td style='font-family:monospace;' title='(0, 0, 1)'><pre>  73.73681 </pre></td><td style='font-family:monospace;' title='(0, 0, 2)'><pre> 106.610482</pre></td></tr><tr><td style='font-family:monospace;' title='(0, 1, 0)'><pre>  62.85084 </pre></td><td style='font-family:monospace;' title='(0, 1, 1)'><pre>  72.283422</pre></td><td style='font-family:monospace;' title='(0, 1, 2)'><pre>  91.0279  </pre></td></tr></tbody></table></td></tr><tr><td><table style='border-style:solid;border-width:1px;'><tbody><tr><td style='font-family:monospace;' title='(1, 0, 0)'><pre>  76.126035</pre></td><td style='font-family:monospace;' title='(1, 0, 1)'><pre>  73.768053</pre></td><td style='font-family:monospace;' title='(1, 0, 2)'><pre> 111.670342</pre></td></tr><tr><td style='font-family:monospace;' title='(1, 1, 0)'><pre>  59.13387 </pre></td><td style='font-family:monospace;' title='(1, 1, 1)'><pre>  91.717703</pre></td><td style='font-family:monospace;' title='(1, 1, 2)'><pre> 111.924879</pre></td></tr></tbody></table></td></tr></table>"
      ]
     },
     "execution_count": 15,
     "metadata": {},
     "output_type": "execute_result"
    }
   ],
   "source": [
    "rel2abs(p, offset, rotation)"
   ]
  }
 ],
 "metadata": {
  "kernelspec": {
   "display_name": "C++17",
   "language": "C++17",
   "name": "xcpp17"
  },
  "language_info": {
   "codemirror_mode": "text/x-c++src",
   "file_extension": ".cpp",
   "mimetype": "text/x-c++src",
   "name": "c++",
   "version": "-std=c++17"
  }
 },
 "nbformat": 4,
 "nbformat_minor": 4
}
