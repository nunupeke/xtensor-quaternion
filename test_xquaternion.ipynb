{
 "cells": [
  {
   "cell_type": "code",
   "execution_count": 1,
   "metadata": {},
   "outputs": [],
   "source": [
    "#include \"xtensor/xtensor.hpp\"\n",
    "#include \"xtensor/xio.hpp\"\n",
    "#include \"include/xquaternion.hpp\"\n",
    "\n",
    "using namespace std;"
   ]
  },
  {
   "cell_type": "code",
   "execution_count": 2,
   "metadata": {},
   "outputs": [
    {
     "data": {
      "text/html": [
       "<table style='border-style:solid;border-width:1px;'><tbody><tr><td style='font-family:monospace;' title='0'><pre>Q: 1, 0, 0, 0\n",
       "</pre></td></tr><tr><td style='font-family:monospace;' title='1'><pre>Q: 1, 0, 0, 0\n",
       "</pre></td></tr><tr><td style='font-family:monospace;' title='2'><pre>Q: 1, 0, 0, 0\n",
       "</pre></td></tr></tbody></table>"
      ]
     },
     "execution_count": 2,
     "metadata": {},
     "output_type": "execute_result"
    }
   ],
   "source": [
    "xt::ones<xt::quaternion<double>>({3})"
   ]
  },
  {
   "cell_type": "code",
   "execution_count": 3,
   "metadata": {},
   "outputs": [
    {
     "name": "stdout",
     "output_type": "stream",
     "text": [
      "Q: 1, 2, 3, 4\n"
     ]
    }
   ],
   "source": [
    "xt::quaternion<double> q = {1, 2, 3, 4};\n",
    "cout << q;"
   ]
  },
  {
   "cell_type": "code",
   "execution_count": 4,
   "metadata": {},
   "outputs": [
    {
     "data": {
      "text/html": [
       "<table style='border-style:solid;border-width:1px;'><tbody><tr><td style='font-family:monospace;'><pre>Q: 1, -2, -3, -4\n",
       "</pre></td></tr></tbody></table>"
      ]
     },
     "execution_count": 4,
     "metadata": {},
     "output_type": "execute_result"
    }
   ],
   "source": [
    "xt::conj(q)"
   ]
  },
  {
   "cell_type": "code",
   "execution_count": 5,
   "metadata": {},
   "outputs": [
    {
     "name": "stdout",
     "output_type": "stream",
     "text": [
      "Q: 2, 0, 0, 0\n"
     ]
    }
   ],
   "source": [
    "q = 2;\n",
    "cout << q;"
   ]
  },
  {
   "cell_type": "code",
   "execution_count": 6,
   "metadata": {},
   "outputs": [],
   "source": [
    "xt::xtensor<xt::quaternion<double>, 1> qt = {{1, 2, 3, 4}, {5, 6, 7, 8}};"
   ]
  },
  {
   "cell_type": "code",
   "execution_count": 7,
   "metadata": {},
   "outputs": [
    {
     "data": {
      "text/html": [
       "<table style='border-style:solid;border-width:1px;'><tbody><tr><td style='font-family:monospace;' title='0'><pre> Q: 30, 0, 0, 0\n",
       "</pre></td></tr><tr><td style='font-family:monospace;' title='1'><pre>Q: 174, 0, 0, 0\n",
       "</pre></td></tr></tbody></table>"
      ]
     },
     "execution_count": 7,
     "metadata": {},
     "output_type": "execute_result"
    }
   ],
   "source": [
    "qt*xt::conj(qt)"
   ]
  },
  {
   "cell_type": "code",
   "execution_count": 8,
   "metadata": {},
   "outputs": [
    {
     "data": {
      "text/html": [
       "<table style='border-style:solid;border-width:1px;'><tbody><tr><td style='font-family:monospace;' title='0'><pre>Q: -1, 2, 3, 4\n",
       "</pre></td></tr><tr><td style='font-family:monospace;' title='1'><pre> Q: 3, 6, 7, 8\n",
       "</pre></td></tr></tbody></table>"
      ]
     },
     "execution_count": 8,
     "metadata": {},
     "output_type": "execute_result"
    }
   ],
   "source": [
    "qt - q"
   ]
  },
  {
   "cell_type": "code",
   "execution_count": 9,
   "metadata": {},
   "outputs": [
    {
     "data": {
      "text/html": [
       "<table style='border-style:solid;border-width:1px;'><tbody><tr><td style='font-family:monospace;' title='0'><pre>Q: 1, 2, 0, 4\n",
       "</pre></td></tr><tr><td style='font-family:monospace;' title='1'><pre>Q: 5, 6, 0, 8\n",
       "</pre></td></tr></tbody></table>"
      ]
     },
     "execution_count": 9,
     "metadata": {},
     "output_type": "execute_result"
    }
   ],
   "source": [
    "xt::offset_view(qt, y) =  xt::zeros<double>({2});\n",
    "qt"
   ]
  }
 ],
 "metadata": {
  "kernelspec": {
   "display_name": "C++17",
   "language": "C++17",
   "name": "xcpp17"
  },
  "language_info": {
   "codemirror_mode": "text/x-c++src",
   "file_extension": ".cpp",
   "mimetype": "text/x-c++src",
   "name": "c++",
   "version": "-std=c++17"
  }
 },
 "nbformat": 4,
 "nbformat_minor": 4
}
